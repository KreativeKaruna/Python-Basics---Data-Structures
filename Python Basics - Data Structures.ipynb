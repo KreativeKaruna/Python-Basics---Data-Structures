{
 "cells": [
  {
   "cell_type": "markdown",
   "id": "923b5557",
   "metadata": {},
   "source": [
    "## Data Structures"
   ]
  },
  {
   "cell_type": "markdown",
   "id": "a08848e6",
   "metadata": {},
   "source": [
    "There are four data structures in Python Programming:\n",
    "1. List\n",
    "2. Tuple\n",
    "3. Set\n",
    "4. Dictionary\n"
   ]
  },
  {
   "cell_type": "markdown",
   "id": "84347867",
   "metadata": {},
   "source": [
    "### 1. List\n",
    "\n",
    "List is a collection of data,in ordered, changeable format, duplicate items are allowed.\n",
    "Format of using list is \"[]\", square brackets.\n",
    "Accessing the items for the list is based on the index numbers. In Python index numbers always starts with zero. \n",
    "Syntax is Variable name[index number]."
   ]
  },
  {
   "cell_type": "code",
   "execution_count": 1,
   "id": "97160281",
   "metadata": {},
   "outputs": [],
   "source": [
    "data = [\"Audi\",\"Toyta\",\"BMW\",\"Honda\",\"Ford\",'Porsche']"
   ]
  },
  {
   "cell_type": "code",
   "execution_count": 2,
   "id": "c43504d2",
   "metadata": {},
   "outputs": [
    {
     "data": {
      "text/plain": [
       "'Audi'"
      ]
     },
     "execution_count": 2,
     "metadata": {},
     "output_type": "execute_result"
    }
   ],
   "source": [
    "data[0]"
   ]
  },
  {
   "cell_type": "code",
   "execution_count": 3,
   "id": "afe89e24",
   "metadata": {},
   "outputs": [
    {
     "data": {
      "text/plain": [
       "'Ford'"
      ]
     },
     "execution_count": 3,
     "metadata": {},
     "output_type": "execute_result"
    }
   ],
   "source": [
    "data[4]"
   ]
  },
  {
   "cell_type": "code",
   "execution_count": 4,
   "id": "9ec6405d",
   "metadata": {},
   "outputs": [
    {
     "name": "stdout",
     "output_type": "stream",
     "text": [
      "['Audi', 'Toyta', 'BMW', 'Honda', 'Volvo', 'Porsche']\n"
     ]
    }
   ],
   "source": [
    "# Changeable format\n",
    "data[4] = \"Volvo\"\n",
    "print(data)"
   ]
  },
  {
   "cell_type": "code",
   "execution_count": 5,
   "id": "b184cf90",
   "metadata": {},
   "outputs": [
    {
     "name": "stdout",
     "output_type": "stream",
     "text": [
      "['Audi', 'Toyta', 'BMW', 'Honda', 'Volvo', 'Porsche', 'Ferrari']\n"
     ]
    }
   ],
   "source": [
    "# append function, it will be adding the item at the end of the list\n",
    "data.append(\"Ferrari\")\n",
    "print(data)"
   ]
  },
  {
   "cell_type": "code",
   "execution_count": 6,
   "id": "9d55bd28",
   "metadata": {},
   "outputs": [
    {
     "name": "stdout",
     "output_type": "stream",
     "text": [
      "['Audi', 'Toyta', 'BMW', 'Honda', 'Aston Martin', 'Volvo', 'Porsche', 'Ferrari']\n"
     ]
    }
   ],
   "source": [
    "#insert fuction, inserting the item in a specified index position\n",
    "data.insert(4,\"Aston Martin\")\n",
    "print(data)"
   ]
  },
  {
   "cell_type": "code",
   "execution_count": 7,
   "id": "d1fbee58",
   "metadata": {},
   "outputs": [
    {
     "name": "stdout",
     "output_type": "stream",
     "text": [
      "['Audi', 'Toyta', 'Honda', 'Aston Martin', 'Volvo', 'Porsche', 'Ferrari']\n"
     ]
    }
   ],
   "source": [
    "#remove fuction, removes the specified item\n",
    "data.remove(\"BMW\")\n",
    "print(data)"
   ]
  },
  {
   "cell_type": "code",
   "execution_count": 8,
   "id": "62b37526",
   "metadata": {},
   "outputs": [
    {
     "name": "stdout",
     "output_type": "stream",
     "text": [
      "True\n"
     ]
    }
   ],
   "source": [
    "print(\"Aston Martin\" in data) # using membeship oerator, returns boolean operator format"
   ]
  },
  {
   "cell_type": "code",
   "execution_count": 9,
   "id": "fc9f7ac1",
   "metadata": {},
   "outputs": [
    {
     "name": "stdout",
     "output_type": "stream",
     "text": [
      "['Audi', 'Toyta', 'Honda', 'Aston Martin', 'Volvo', 'Porsche']\n"
     ]
    }
   ],
   "source": [
    "# pop function , without index number specified, it will pop out last item and if index is specified, pops out corressponding item\n",
    "data.pop()\n",
    "print(data)"
   ]
  },
  {
   "cell_type": "code",
   "execution_count": 10,
   "id": "f5fd84e4",
   "metadata": {},
   "outputs": [
    {
     "name": "stdout",
     "output_type": "stream",
     "text": [
      "['Audi', 'Toyta', 'Honda', 'Volvo', 'Porsche']\n"
     ]
    }
   ],
   "source": [
    "data.pop(3)\n",
    "print(data)"
   ]
  },
  {
   "cell_type": "code",
   "execution_count": 11,
   "id": "028676b2",
   "metadata": {},
   "outputs": [
    {
     "name": "stdout",
     "output_type": "stream",
     "text": [
      "['Audi', 'Toyta', 'Honda', 'Porsche']\n"
     ]
    }
   ],
   "source": [
    "#delete function, if specified index number, corressponding item will be deleted and if no index number is specified, entire list will be deleted.\n",
    "del data[3]\n",
    "print(data)"
   ]
  },
  {
   "cell_type": "code",
   "execution_count": 12,
   "id": "d124e3bb",
   "metadata": {},
   "outputs": [
    {
     "ename": "NameError",
     "evalue": "name 'data' is not defined",
     "output_type": "error",
     "traceback": [
      "\u001b[1;31m---------------------------------------------------------------------------\u001b[0m",
      "\u001b[1;31mNameError\u001b[0m                                 Traceback (most recent call last)",
      "\u001b[1;32m<ipython-input-12-53116c9cf8e2>\u001b[0m in \u001b[0;36m<module>\u001b[1;34m\u001b[0m\n\u001b[0;32m      1\u001b[0m \u001b[1;32mdel\u001b[0m \u001b[0mdata\u001b[0m \u001b[1;31m# whole data will be deleted\u001b[0m\u001b[1;33m\u001b[0m\u001b[1;33m\u001b[0m\u001b[0m\n\u001b[1;32m----> 2\u001b[1;33m \u001b[0mprint\u001b[0m\u001b[1;33m(\u001b[0m\u001b[0mdata\u001b[0m\u001b[1;33m)\u001b[0m\u001b[1;33m\u001b[0m\u001b[1;33m\u001b[0m\u001b[0m\n\u001b[0m",
      "\u001b[1;31mNameError\u001b[0m: name 'data' is not defined"
     ]
    }
   ],
   "source": [
    "del data # whole data will be deleted\n",
    "print(data)"
   ]
  },
  {
   "cell_type": "markdown",
   "id": "45860da4",
   "metadata": {},
   "source": [
    "### 2. Tuple\n",
    "Tuple is a collection of data, unchangeable format, duplicate items are allowed.\n",
    "Format of using the tuple is round brackets\"()\".\n",
    "To access the items, refferring to the index numbers is needed, indexing starts with zero. Syntax is Variable name[index number]"
   ]
  },
  {
   "cell_type": "code",
   "execution_count": 13,
   "id": "bb5b7b8f",
   "metadata": {},
   "outputs": [],
   "source": [
    "data = (\"Sunflower\", \"Rose\",\"Daisy\", \"Jasmine\")"
   ]
  },
  {
   "cell_type": "code",
   "execution_count": 14,
   "id": "1df0312a",
   "metadata": {},
   "outputs": [
    {
     "data": {
      "text/plain": [
       "'Sunflower'"
      ]
     },
     "execution_count": 14,
     "metadata": {},
     "output_type": "execute_result"
    }
   ],
   "source": [
    "data[0]"
   ]
  },
  {
   "cell_type": "code",
   "execution_count": 15,
   "id": "78acc7df",
   "metadata": {
    "scrolled": true
   },
   "outputs": [
    {
     "ename": "TypeError",
     "evalue": "'tuple' object does not support item assignment",
     "output_type": "error",
     "traceback": [
      "\u001b[1;31m---------------------------------------------------------------------------\u001b[0m",
      "\u001b[1;31mTypeError\u001b[0m                                 Traceback (most recent call last)",
      "\u001b[1;32m<ipython-input-15-1c11b4d92cf3>\u001b[0m in \u001b[0;36m<module>\u001b[1;34m\u001b[0m\n\u001b[1;32m----> 1\u001b[1;33m \u001b[0mdata\u001b[0m\u001b[1;33m[\u001b[0m\u001b[1;36m2\u001b[0m\u001b[1;33m]\u001b[0m \u001b[1;33m=\u001b[0m \u001b[1;34m\"Lotus\"\u001b[0m \u001b[1;31m# once defined cannot be changed, append, insert, remove and delete a Tuple, but we can delete whole data.\u001b[0m\u001b[1;33m\u001b[0m\u001b[1;33m\u001b[0m\u001b[0m\n\u001b[0m",
      "\u001b[1;31mTypeError\u001b[0m: 'tuple' object does not support item assignment"
     ]
    }
   ],
   "source": [
    "data[2] = \"Lotus\" # once defined cannot be changed, append, insert, remove and delete a Tuple, but we can delete whole data."
   ]
  },
  {
   "cell_type": "code",
   "execution_count": 16,
   "id": "7f23eee2",
   "metadata": {},
   "outputs": [
    {
     "ename": "TypeError",
     "evalue": "'tuple' object doesn't support item deletion",
     "output_type": "error",
     "traceback": [
      "\u001b[1;31m---------------------------------------------------------------------------\u001b[0m",
      "\u001b[1;31mTypeError\u001b[0m                                 Traceback (most recent call last)",
      "\u001b[1;32m<ipython-input-16-22fb1723de41>\u001b[0m in \u001b[0;36m<module>\u001b[1;34m\u001b[0m\n\u001b[1;32m----> 1\u001b[1;33m \u001b[1;32mdel\u001b[0m \u001b[0mdata\u001b[0m\u001b[1;33m[\u001b[0m\u001b[1;36m3\u001b[0m\u001b[1;33m]\u001b[0m\u001b[1;33m\u001b[0m\u001b[1;33m\u001b[0m\u001b[0m\n\u001b[0m",
      "\u001b[1;31mTypeError\u001b[0m: 'tuple' object doesn't support item deletion"
     ]
    }
   ],
   "source": [
    "del data[3] # Tuple cannot be deleted"
   ]
  },
  {
   "cell_type": "code",
   "execution_count": 17,
   "id": "19b2f5ad",
   "metadata": {},
   "outputs": [
    {
     "ename": "NameError",
     "evalue": "name 'data' is not defined",
     "output_type": "error",
     "traceback": [
      "\u001b[1;31m---------------------------------------------------------------------------\u001b[0m",
      "\u001b[1;31mNameError\u001b[0m                                 Traceback (most recent call last)",
      "\u001b[1;32m<ipython-input-17-170e9c41377e>\u001b[0m in \u001b[0;36m<module>\u001b[1;34m\u001b[0m\n\u001b[0;32m      1\u001b[0m \u001b[1;32mdel\u001b[0m \u001b[0mdata\u001b[0m\u001b[1;33m\u001b[0m\u001b[1;33m\u001b[0m\u001b[0m\n\u001b[1;32m----> 2\u001b[1;33m \u001b[0mprint\u001b[0m\u001b[1;33m(\u001b[0m\u001b[0mdata\u001b[0m\u001b[1;33m)\u001b[0m\u001b[1;33m\u001b[0m\u001b[1;33m\u001b[0m\u001b[0m\n\u001b[0m",
      "\u001b[1;31mNameError\u001b[0m: name 'data' is not defined"
     ]
    }
   ],
   "source": [
    "del data\n",
    "print(data)"
   ]
  },
  {
   "cell_type": "markdown",
   "id": "203af27e",
   "metadata": {},
   "source": [
    "### 3.Set\n",
    "Set is a collection of data, multiple items, unordered format(shuffling order format), unindexed. Duplicate items are not allowed.\n",
    "Format of using set is curly brackets\"{ }\"."
   ]
  },
  {
   "cell_type": "code",
   "execution_count": 18,
   "id": "e688372e",
   "metadata": {},
   "outputs": [
    {
     "name": "stdout",
     "output_type": "stream",
     "text": [
      "{'India', 'Germany', 'Denmark', 'Australia', 'France'}\n"
     ]
    }
   ],
   "source": [
    "data = {\"India\", \"Germany\", \"France\", \"Denmark\", \"Australia\"}\n",
    "print(data)"
   ]
  },
  {
   "cell_type": "code",
   "execution_count": 19,
   "id": "beb0a732",
   "metadata": {},
   "outputs": [
    {
     "name": "stdout",
     "output_type": "stream",
     "text": [
      "{'India', 'Germany', 'Denmark', 'Australia', 'France'}\n"
     ]
    }
   ],
   "source": [
    "print(data) # order is not same as we defined, hence cannot be indexed."
   ]
  },
  {
   "cell_type": "code",
   "execution_count": 20,
   "id": "e0a69149",
   "metadata": {},
   "outputs": [
    {
     "ename": "TypeError",
     "evalue": "'set' object is not subscriptable",
     "output_type": "error",
     "traceback": [
      "\u001b[1;31m---------------------------------------------------------------------------\u001b[0m",
      "\u001b[1;31mTypeError\u001b[0m                                 Traceback (most recent call last)",
      "\u001b[1;32m<ipython-input-20-9b1ae41c1d16>\u001b[0m in \u001b[0;36m<module>\u001b[1;34m\u001b[0m\n\u001b[1;32m----> 1\u001b[1;33m \u001b[0mdata\u001b[0m\u001b[1;33m[\u001b[0m\u001b[1;36m0\u001b[0m\u001b[1;33m]\u001b[0m  \u001b[1;31m# items cannot be called with index\u001b[0m\u001b[1;33m\u001b[0m\u001b[1;33m\u001b[0m\u001b[0m\n\u001b[0m",
      "\u001b[1;31mTypeError\u001b[0m: 'set' object is not subscriptable"
     ]
    }
   ],
   "source": [
    "data[0]  # items cannot be called with index"
   ]
  },
  {
   "cell_type": "code",
   "execution_count": 21,
   "id": "05638069",
   "metadata": {},
   "outputs": [
    {
     "name": "stdout",
     "output_type": "stream",
     "text": [
      "{'India', 'Germany', 'Malaysia', 'Denmark', 'Australia', 'France'}\n"
     ]
    }
   ],
   "source": [
    "# add functions adds an item to set, it will add anywhere in the set.\n",
    "data.add(\"Malaysia\") \n",
    "print(data)"
   ]
  },
  {
   "cell_type": "code",
   "execution_count": 22,
   "id": "38f81032",
   "metadata": {},
   "outputs": [
    {
     "name": "stdout",
     "output_type": "stream",
     "text": [
      "{'India', 'Germany', 'Malaysia', 'Denmark', 'France'}\n"
     ]
    }
   ],
   "source": [
    "#remove function\n",
    "data.remove(\"Australia\")\n",
    "print(data)"
   ]
  },
  {
   "cell_type": "code",
   "execution_count": 23,
   "id": "8b58b3a9",
   "metadata": {},
   "outputs": [
    {
     "name": "stdout",
     "output_type": "stream",
     "text": [
      "{'Germany', 'Malaysia', 'Denmark', 'France'}\n"
     ]
    }
   ],
   "source": [
    "# pop function\n",
    "data.pop()\n",
    "print(data)"
   ]
  },
  {
   "cell_type": "code",
   "execution_count": 24,
   "id": "bb22c945",
   "metadata": {},
   "outputs": [
    {
     "ename": "SyntaxError",
     "evalue": "cannot delete function call (<ipython-input-24-8e636a81ad80>, line 1)",
     "output_type": "error",
     "traceback": [
      "\u001b[1;36m  File \u001b[1;32m\"<ipython-input-24-8e636a81ad80>\"\u001b[1;36m, line \u001b[1;32m1\u001b[0m\n\u001b[1;33m    del data(\"France\") # no individual item cannot be deleted\u001b[0m\n\u001b[1;37m        ^\u001b[0m\n\u001b[1;31mSyntaxError\u001b[0m\u001b[1;31m:\u001b[0m cannot delete function call\n"
     ]
    }
   ],
   "source": [
    "del data(\"France\") # no individual item cannot be deleted"
   ]
  },
  {
   "cell_type": "code",
   "execution_count": 25,
   "id": "07c57806",
   "metadata": {},
   "outputs": [
    {
     "ename": "NameError",
     "evalue": "name 'data' is not defined",
     "output_type": "error",
     "traceback": [
      "\u001b[1;31m---------------------------------------------------------------------------\u001b[0m",
      "\u001b[1;31mNameError\u001b[0m                                 Traceback (most recent call last)",
      "\u001b[1;32m<ipython-input-25-59f9f7927704>\u001b[0m in \u001b[0;36m<module>\u001b[1;34m\u001b[0m\n\u001b[0;32m      1\u001b[0m \u001b[1;32mdel\u001b[0m \u001b[0mdata\u001b[0m   \u001b[1;31m# it will delete whole data\u001b[0m\u001b[1;33m\u001b[0m\u001b[1;33m\u001b[0m\u001b[0m\n\u001b[1;32m----> 2\u001b[1;33m \u001b[0mprint\u001b[0m\u001b[1;33m(\u001b[0m\u001b[0mdata\u001b[0m\u001b[1;33m)\u001b[0m\u001b[1;33m\u001b[0m\u001b[1;33m\u001b[0m\u001b[0m\n\u001b[0m",
      "\u001b[1;31mNameError\u001b[0m: name 'data' is not defined"
     ]
    }
   ],
   "source": [
    "del data   # it will delete whole data\n",
    "print(data)"
   ]
  },
  {
   "cell_type": "markdown",
   "id": "15fa5c33",
   "metadata": {},
   "source": [
    "## Dictionary\n",
    "Dictionary is collection of data, has changable format, can be indexed, duplicate items ae not allowed.\n",
    "Format of using dictionary is \"{key/index : value}\""
   ]
  },
  {
   "cell_type": "code",
   "execution_count": 26,
   "id": "8f72bdb9",
   "metadata": {},
   "outputs": [
    {
     "name": "stdout",
     "output_type": "stream",
     "text": [
      "{'brand': 'Ford', 'model': 'Endevour', 'year': 2008}\n"
     ]
    }
   ],
   "source": [
    "car = { \"brand\" : \"Ford\", \"model\" : \"Endevour\", \"year\" : 2008}\n",
    "print(car)"
   ]
  },
  {
   "cell_type": "code",
   "execution_count": 27,
   "id": "7a259884",
   "metadata": {},
   "outputs": [
    {
     "data": {
      "text/plain": [
       "'Ford'"
      ]
     },
     "execution_count": 27,
     "metadata": {},
     "output_type": "execute_result"
    }
   ],
   "source": [
    "car[\"brand\"]  # for calling a value, inex name is used"
   ]
  },
  {
   "cell_type": "code",
   "execution_count": 28,
   "id": "2ee093bb",
   "metadata": {},
   "outputs": [
    {
     "name": "stdout",
     "output_type": "stream",
     "text": [
      "{'brand': 'Benz', 'model': 'Endevour', 'year': 2008}\n"
     ]
    }
   ],
   "source": [
    "# changeable format\n",
    "car[\"brand\"] = \"Benz\"\n",
    "print(car)"
   ]
  },
  {
   "cell_type": "code",
   "execution_count": 29,
   "id": "ed58d7f6",
   "metadata": {},
   "outputs": [
    {
     "name": "stdout",
     "output_type": "stream",
     "text": [
      "{'brand': 'Benz', 'model': 'Endevour', 'year': 2008, 'color': 'siver'}\n"
     ]
    }
   ],
   "source": [
    "# adding\n",
    "car[\"color\"] = \"siver\"\n",
    "print(car)"
   ]
  },
  {
   "cell_type": "code",
   "execution_count": 30,
   "id": "d28584ea",
   "metadata": {},
   "outputs": [
    {
     "name": "stdout",
     "output_type": "stream",
     "text": [
      "{'brand': 'Benz', 'model': 'Endevour', 'color': 'siver'}\n"
     ]
    }
   ],
   "source": [
    "# pop function ; there is no remove funtion in dictionary\n",
    "car.pop(\"year\")\n",
    "print(car)"
   ]
  },
  {
   "cell_type": "code",
   "execution_count": 31,
   "id": "6ab76f54",
   "metadata": {},
   "outputs": [
    {
     "name": "stdout",
     "output_type": "stream",
     "text": [
      "{'brand': 'Benz', 'color': 'siver'}\n"
     ]
    }
   ],
   "source": [
    "del car[\"model\"] # specified item can be deleted\n",
    "print(car)"
   ]
  },
  {
   "cell_type": "code",
   "execution_count": 32,
   "id": "4bf7698d",
   "metadata": {},
   "outputs": [
    {
     "ename": "NameError",
     "evalue": "name 'car' is not defined",
     "output_type": "error",
     "traceback": [
      "\u001b[1;31m---------------------------------------------------------------------------\u001b[0m",
      "\u001b[1;31mNameError\u001b[0m                                 Traceback (most recent call last)",
      "\u001b[1;32m<ipython-input-32-198e4c29ef85>\u001b[0m in \u001b[0;36m<module>\u001b[1;34m\u001b[0m\n\u001b[0;32m      1\u001b[0m \u001b[1;32mdel\u001b[0m \u001b[0mcar\u001b[0m \u001b[1;31m# whole car data will be deleted\u001b[0m\u001b[1;33m\u001b[0m\u001b[1;33m\u001b[0m\u001b[0m\n\u001b[1;32m----> 2\u001b[1;33m \u001b[0mprint\u001b[0m\u001b[1;33m(\u001b[0m\u001b[0mcar\u001b[0m\u001b[1;33m)\u001b[0m\u001b[1;33m\u001b[0m\u001b[1;33m\u001b[0m\u001b[0m\n\u001b[0m",
      "\u001b[1;31mNameError\u001b[0m: name 'car' is not defined"
     ]
    }
   ],
   "source": [
    "del car # whole car data will be deleted\n",
    "print(car)"
   ]
  }
 ],
 "metadata": {
  "kernelspec": {
   "display_name": "Python 3",
   "language": "python",
   "name": "python3"
  },
  "language_info": {
   "codemirror_mode": {
    "name": "ipython",
    "version": 3
   },
   "file_extension": ".py",
   "mimetype": "text/x-python",
   "name": "python",
   "nbconvert_exporter": "python",
   "pygments_lexer": "ipython3",
   "version": "3.8.5"
  }
 },
 "nbformat": 4,
 "nbformat_minor": 5
}
